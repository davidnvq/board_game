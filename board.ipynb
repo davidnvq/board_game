{
 "cells": [
  {
   "cell_type": "code",
   "execution_count": 16,
   "metadata": {},
   "outputs": [
    {
     "data": {
      "text/plain": [
       "array([[2, 1, 0, 2, 0, 0, 2, 0, 0, 2],\n",
       "       [1, 2, 0, 0, 0, 2, 2, 2, 0, 0],\n",
       "       [2, 0, 0, 0, 0, 0, 0, 0, 0, 2],\n",
       "       [1, 0, 2, 2, 2, 1, 0, 0, 1, 0],\n",
       "       [1, 0, 0, 0, 0, 0, 2, 2, 0, 0],\n",
       "       [1, 2, 0, 1, 0, 1, 0, 2, 0, 1],\n",
       "       [1, 0, 0, 1, 1, 1, 0, 2, 1, 0],\n",
       "       [1, 0, 0, 0, 0, 0, 2, 1, 1, 0],\n",
       "       [1, 2, 0, 2, 1, 2, 0, 1, 0, 1],\n",
       "       [0, 1, 2, 1, 1, 0, 0, 1, 2, 0]])"
      ]
     },
     "execution_count": 16,
     "metadata": {},
     "output_type": "execute_result"
    }
   ],
   "source": [
    "import string\n",
    "import numpy as np\n",
    "\n",
    "USER1 = 1\n",
    "USER2 = 2\n",
    "\n",
    "\n",
    "def create_board(size, style=0):  # 0 = 'standard' else 'random'\n",
    "    total_cells = size * size\n",
    "\n",
    "    # create zero board\n",
    "    board = np.zeros((size, size), dtype=int)\n",
    "    cells = [(i, j) for i in range(size) for j in range(size)]\n",
    "\n",
    "    if style == 0:  # standard\n",
    "        third = int(size // 3)\n",
    "        board[0:third] = 1\n",
    "        board[-third:] = 2\n",
    "        return board\n",
    "    else:  # random\n",
    "        player_idxes = np.random.choice(range(len(cells)), size=int(total_cells / 2), replace=False)\n",
    "        player_cells = [cells[i] for i in player_idxes]\n",
    "\n",
    "        for i, (row, col) in enumerate(player_cells):\n",
    "            if i <= total_cells / 4:\n",
    "                board[col, row] = 1\n",
    "            else:\n",
    "                board[col, row] = 2\n",
    "        return board\n",
    "\n",
    "\n",
    "board = create_board(10, 1)\n",
    "board"
   ]
  },
  {
   "cell_type": "code",
   "execution_count": 6,
   "metadata": {},
   "outputs": [
    {
     "name": "stdout",
     "output_type": "stream",
     "text": [
      "0\n",
      "-1.0\n",
      "1.0\n"
     ]
    }
   ],
   "source": [
    "import math\n",
    "\n",
    "\n",
    "def get_sign(num):\n",
    "    if num == 0:\n",
    "        return 0\n",
    "    else:\n",
    "        return (math.copysign(1, num))\n",
    "\n",
    "\n",
    "# test the function\n",
    "print(get_sign(0))  # output: 0\n",
    "print(get_sign(-5))  # output: -1\n",
    "print(get_sign(10))  # output: 1\n"
   ]
  },
  {
   "cell_type": "code",
   "execution_count": 29,
   "metadata": {},
   "outputs": [
    {
     "name": "stdout",
     "output_type": "stream",
     "text": [
      "    0   1   2   3   4   5   6   7   8   9\n",
      "--+---+---+---+---+---+---+---+---+---+---+\n",
      "0 | o | x |   | o |   |   | o |   |   | o | \n",
      "--+---+---+---+---+---+---+---+---+---+---+\n",
      "1 | x | o |   |   |   | o | o | o |   |   | \n",
      "--+---+---+---+---+---+---+---+---+---+---+\n",
      "2 | o |   |   |   |   |   |   |   |   | o | \n",
      "--+---+---+---+---+---+---+---+---+---+---+\n",
      "3 | x |   | o | o | o | x |   |   | x |   | \n",
      "--+---+---+---+---+---+---+---+---+---+---+\n",
      "4 | x |   |   |   |   |   | o | o |   |   | \n",
      "--+---+---+---+---+---+---+---+---+---+---+\n",
      "5 | x | o |   | x |   | x |   | o |   | x | \n",
      "--+---+---+---+---+---+---+---+---+---+---+\n",
      "6 | x |   |   | x | x | x |   | o | x |   | \n",
      "--+---+---+---+---+---+---+---+---+---+---+\n",
      "7 | x |   |   |   |   |   | o | x | x |   | \n",
      "--+---+---+---+---+---+---+---+---+---+---+\n",
      "8 | x | o |   | o | x | o |   | x |   | x | \n",
      "--+---+---+---+---+---+---+---+---+---+---+\n",
      "9 |   | x | o | x | x |   |   | x | o |   | \n",
      "--+---+---+---+---+---+---+---+---+---+---+\n",
      "Jouer 1:x                    Jouer 2: o\n"
     ]
    }
   ],
   "source": [
    "def afficher_grille(board):\n",
    "    afficher_carre = [' ', 'x', 'o']\n",
    "\n",
    "    # afficher la row d'indice de colonne de 0-9:\n",
    "    print('    ' + '   '.join([str(i) for i in range(len(board))]))\n",
    "    # print('  -------------------------------------')\n",
    "    print('--+' + '---+' * board.shape[0])\n",
    "\n",
    "    #afficher le reste de board:\n",
    "    for cpt, row in enumerate(board):\n",
    "        chaque_ligne = ''\n",
    "        #afficher chaque row avec son indice de A - I\n",
    "        for col in row:\n",
    "            chaque_ligne += afficher_carre[col] + ' | '\n",
    "        print(cpt, '|', chaque_ligne)\n",
    "        print('--+' + '---+' * board.shape[0])\n",
    "        # print('-----' * board.shape[0])\n",
    "\n",
    "    print(\"Jouer 1:x                    Jouer 2: o\")\n",
    "\n",
    "\n",
    "afficher_grille(board)"
   ]
  },
  {
   "cell_type": "code",
   "execution_count": 36,
   "metadata": {},
   "outputs": [],
   "source": [
    "def get_step(number1, number2):\n",
    "    diff = number2 - number1\n",
    "    return int(math.copysign(1, diff)) if diff != 0 else 0\n",
    "\n",
    "\n",
    "def get_interested_segment(board, cur_cell, end_cell):\n",
    "    # return the segment between a and b (include a and b)\n",
    "    x1, y1 = cur_cell\n",
    "    x2, y2 = end_cell\n",
    "\n",
    "    row_step = get_step(x1, x2)  # 1 or -1 or 0\n",
    "    col_step = get_step(y1, y2)  # 1 or -1 or 0\n",
    "\n",
    "    row_idxs = range(x1, x2 + row_step, row_step) if row_step != 0 else [x1] * abs(y2 - y1 + 1)\n",
    "    col_idxs = range(y1, y2 + col_step, col_step) if col_step != 0 else [y1] * abs(x2 - x1 + 1)\n",
    "\n",
    "    segment = []  # will include both a and b\n",
    "    for i, j in zip(row_idxs, col_idxs):\n",
    "        segment.append([i, j])\n",
    "    return np.array(segment)"
   ]
  },
  {
   "cell_type": "code",
   "execution_count": 39,
   "metadata": {},
   "outputs": [
    {
     "data": {
      "text/plain": [
       "'a'"
      ]
     },
     "execution_count": 39,
     "metadata": {},
     "output_type": "execute_result"
    }
   ],
   "source": [
    "import string\n",
    "\n",
    "string.ascii_lowercase[0]"
   ]
  },
  {
   "cell_type": "code",
   "execution_count": null,
   "metadata": {},
   "outputs": [],
   "source": []
  },
  {
   "cell_type": "code",
   "execution_count": null,
   "metadata": {},
   "outputs": [],
   "source": []
  }
 ],
 "metadata": {
  "kernelspec": {
   "display_name": "var",
   "language": "python",
   "name": "python3"
  },
  "language_info": {
   "codemirror_mode": {
    "name": "ipython",
    "version": 3
   },
   "file_extension": ".py",
   "mimetype": "text/x-python",
   "name": "python",
   "nbconvert_exporter": "python",
   "pygments_lexer": "ipython3",
   "version": "3.8.16"
  },
  "orig_nbformat": 4
 },
 "nbformat": 4,
 "nbformat_minor": 2
}
